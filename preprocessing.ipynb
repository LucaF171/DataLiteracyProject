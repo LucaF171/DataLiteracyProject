{
 "cells": [
  {
   "attachments": {},
   "cell_type": "markdown",
   "metadata": {},
   "source": [
    "### Import Modules"
   ]
  },
  {
   "cell_type": "code",
   "execution_count": 52,
   "metadata": {},
   "outputs": [],
   "source": [
    "import numpy as np\n",
    "import pandas as pd"
   ]
  },
  {
   "attachments": {},
   "cell_type": "markdown",
   "metadata": {},
   "source": [
    "## Preprocessing"
   ]
  },
  {
   "cell_type": "code",
   "execution_count": 53,
   "metadata": {},
   "outputs": [
    {
     "data": {
      "text/plain": "       ResponseId                                         MainBranch  \\\n0               1                                      None of these   \n1               2                     I am a developer by profession   \n2               3  I am not primarily a developer, but I write co...   \n3               4                     I am a developer by profession   \n4               5                     I am a developer by profession   \n...           ...                                                ...   \n73263       73264                     I am a developer by profession   \n73264       73265                     I am a developer by profession   \n73265       73266  I am not primarily a developer, but I write co...   \n73266       73267                     I am a developer by profession   \n73267       73268  I used to be a developer by profession, but no...   \n\n                                              Employment  \\\n0                                                    NaN   \n1                                    Employed, full-time   \n2                                    Employed, full-time   \n3                                    Employed, full-time   \n4                                    Employed, full-time   \n...                                                  ...   \n73263                                Employed, full-time   \n73264                                Employed, full-time   \n73265                                Employed, full-time   \n73266                                Employed, full-time   \n73267  Independent contractor, freelancer, or self-em...   \n\n                                 RemoteWork  \\\n0                                       NaN   \n1                              Fully remote   \n2      Hybrid (some remote, some in-person)   \n3                              Fully remote   \n4      Hybrid (some remote, some in-person)   \n...                                     ...   \n73263                          Fully remote   \n73264                        Full in-person   \n73265  Hybrid (some remote, some in-person)   \n73266  Hybrid (some remote, some in-person)   \n73267                          Fully remote   \n\n                                        CodingActivities  \\\n0                                                    NaN   \n1               Hobby;Contribute to open-source projects   \n2                                                  Hobby   \n3                           I don’t code outside of work   \n4                                                  Hobby   \n...                                                  ...   \n73263                            Freelance/contract work   \n73264                                              Hobby   \n73265                      Hobby;School or academic work   \n73266                                              Hobby   \n73267  Hobby;Contribute to open-source projects;Boots...   \n\n                                               EdLevel  \\\n0                                                  NaN   \n1                                                  NaN   \n2      Master’s degree (M.A., M.S., M.Eng., MBA, etc.)   \n3         Bachelor’s degree (B.A., B.S., B.Eng., etc.)   \n4         Bachelor’s degree (B.A., B.S., B.Eng., etc.)   \n...                                                ...   \n73263     Bachelor’s degree (B.A., B.S., B.Eng., etc.)   \n73264  Master’s degree (M.A., M.S., M.Eng., MBA, etc.)   \n73265     Bachelor’s degree (B.A., B.S., B.Eng., etc.)   \n73266     Bachelor’s degree (B.A., B.S., B.Eng., etc.)   \n73267     Bachelor’s degree (B.A., B.S., B.Eng., etc.)   \n\n                                               LearnCode  \\\n0                                                    NaN   \n1                                                    NaN   \n2      Books / Physical media;Friend or family member...   \n3      Books / Physical media;School (i.e., Universit...   \n4      Other online resources (e.g., videos, blogs, f...   \n...                                                  ...   \n73263  Books / Physical media;Other online resources ...   \n73264  Other online resources (e.g., videos, blogs, f...   \n73265  Books / Physical media;Other online resources ...   \n73266         Books / Physical media;On the job training   \n73267  Books / Physical media;Friend or family member...   \n\n                                         LearnCodeOnline  \\\n0                                                    NaN   \n1                                                    NaN   \n2      Technical documentation;Blogs;Programming Game...   \n3                                                    NaN   \n4      Technical documentation;Blogs;Stack Overflow;O...   \n...                                                  ...   \n73263  Technical documentation;Blogs;Written Tutorial...   \n73264  Technical documentation;Blogs;Written Tutorial...   \n73265  Technical documentation;Programming Games;Stac...   \n73266                                                NaN   \n73267  Technical documentation;Blogs;Programming Game...   \n\n                   LearnCodeCoursesCert YearsCode  ...        TimeSearching  \\\n0                                   NaN       NaN  ...                  NaN   \n1                                   NaN       NaN  ...                  NaN   \n2                                   NaN        14  ...                  NaN   \n3                                   NaN        20  ...                  NaN   \n4                                   NaN         8  ...                  NaN   \n...                                 ...       ...  ...                  ...   \n73263                             Udemy         8  ...  30-60 minutes a day   \n73264            Coursera;Udemy;Udacity         6  ...  15-30 minutes a day   \n73265  Udemy;Codecademy;Pluralsight;edX        42  ...  30-60 minutes a day   \n73266                               NaN        50  ...                  NaN   \n73267                 Udemy;Pluralsight        16  ...                  NaN   \n\n                    TimeAnswering  Onboarding  \\\n0                             NaN         NaN   \n1                             NaN         NaN   \n2                             NaN         NaN   \n3                             NaN         NaN   \n4                             NaN         NaN   \n...                           ...         ...   \n73263  Less than 15 minutes a day  Just right   \n73264        60-120 minutes a day   Very long   \n73265        60-120 minutes a day  Just right   \n73266                         NaN         NaN   \n73267                         NaN         NaN   \n\n                                        ProfessionalTech TrueFalse_1  \\\n0                                                    NaN         NaN   \n1                                                    NaN         NaN   \n2                                                    NaN         NaN   \n3                                                    NaN         NaN   \n4                                                    NaN         NaN   \n...                                                  ...         ...   \n73263  DevOps function;Microservices;Developer portal...         Yes   \n73264                                      None of these          No   \n73265                                      None of these          No   \n73266                                                NaN         NaN   \n73267                                                NaN         NaN   \n\n      TrueFalse_2 TrueFalse_3           SurveyLength  \\\n0             NaN         NaN                    NaN   \n1             NaN         NaN               Too long   \n2             NaN         NaN  Appropriate in length   \n3             NaN         NaN  Appropriate in length   \n4             NaN         NaN               Too long   \n...           ...         ...                    ...   \n73263         Yes         Yes               Too long   \n73264         Yes         Yes               Too long   \n73265          No          No  Appropriate in length   \n73266         NaN         NaN  Appropriate in length   \n73267         NaN         NaN  Appropriate in length   \n\n                       SurveyEase ConvertedCompYearly  \n0                             NaN                 NaN  \n1                       Difficult                 NaN  \n2      Neither easy nor difficult             40205.0  \n3                            Easy            215232.0  \n4                            Easy                 NaN  \n...                           ...                 ...  \n73263                        Easy                 NaN  \n73264                        Easy                 NaN  \n73265                        Easy                 NaN  \n73266                        Easy                 NaN  \n73267                        Easy                 NaN  \n\n[73268 rows x 79 columns]",
      "text/html": "<div>\n<style scoped>\n    .dataframe tbody tr th:only-of-type {\n        vertical-align: middle;\n    }\n\n    .dataframe tbody tr th {\n        vertical-align: top;\n    }\n\n    .dataframe thead th {\n        text-align: right;\n    }\n</style>\n<table border=\"1\" class=\"dataframe\">\n  <thead>\n    <tr style=\"text-align: right;\">\n      <th></th>\n      <th>ResponseId</th>\n      <th>MainBranch</th>\n      <th>Employment</th>\n      <th>RemoteWork</th>\n      <th>CodingActivities</th>\n      <th>EdLevel</th>\n      <th>LearnCode</th>\n      <th>LearnCodeOnline</th>\n      <th>LearnCodeCoursesCert</th>\n      <th>YearsCode</th>\n      <th>...</th>\n      <th>TimeSearching</th>\n      <th>TimeAnswering</th>\n      <th>Onboarding</th>\n      <th>ProfessionalTech</th>\n      <th>TrueFalse_1</th>\n      <th>TrueFalse_2</th>\n      <th>TrueFalse_3</th>\n      <th>SurveyLength</th>\n      <th>SurveyEase</th>\n      <th>ConvertedCompYearly</th>\n    </tr>\n  </thead>\n  <tbody>\n    <tr>\n      <th>0</th>\n      <td>1</td>\n      <td>None of these</td>\n      <td>NaN</td>\n      <td>NaN</td>\n      <td>NaN</td>\n      <td>NaN</td>\n      <td>NaN</td>\n      <td>NaN</td>\n      <td>NaN</td>\n      <td>NaN</td>\n      <td>...</td>\n      <td>NaN</td>\n      <td>NaN</td>\n      <td>NaN</td>\n      <td>NaN</td>\n      <td>NaN</td>\n      <td>NaN</td>\n      <td>NaN</td>\n      <td>NaN</td>\n      <td>NaN</td>\n      <td>NaN</td>\n    </tr>\n    <tr>\n      <th>1</th>\n      <td>2</td>\n      <td>I am a developer by profession</td>\n      <td>Employed, full-time</td>\n      <td>Fully remote</td>\n      <td>Hobby;Contribute to open-source projects</td>\n      <td>NaN</td>\n      <td>NaN</td>\n      <td>NaN</td>\n      <td>NaN</td>\n      <td>NaN</td>\n      <td>...</td>\n      <td>NaN</td>\n      <td>NaN</td>\n      <td>NaN</td>\n      <td>NaN</td>\n      <td>NaN</td>\n      <td>NaN</td>\n      <td>NaN</td>\n      <td>Too long</td>\n      <td>Difficult</td>\n      <td>NaN</td>\n    </tr>\n    <tr>\n      <th>2</th>\n      <td>3</td>\n      <td>I am not primarily a developer, but I write co...</td>\n      <td>Employed, full-time</td>\n      <td>Hybrid (some remote, some in-person)</td>\n      <td>Hobby</td>\n      <td>Master’s degree (M.A., M.S., M.Eng., MBA, etc.)</td>\n      <td>Books / Physical media;Friend or family member...</td>\n      <td>Technical documentation;Blogs;Programming Game...</td>\n      <td>NaN</td>\n      <td>14</td>\n      <td>...</td>\n      <td>NaN</td>\n      <td>NaN</td>\n      <td>NaN</td>\n      <td>NaN</td>\n      <td>NaN</td>\n      <td>NaN</td>\n      <td>NaN</td>\n      <td>Appropriate in length</td>\n      <td>Neither easy nor difficult</td>\n      <td>40205.0</td>\n    </tr>\n    <tr>\n      <th>3</th>\n      <td>4</td>\n      <td>I am a developer by profession</td>\n      <td>Employed, full-time</td>\n      <td>Fully remote</td>\n      <td>I don’t code outside of work</td>\n      <td>Bachelor’s degree (B.A., B.S., B.Eng., etc.)</td>\n      <td>Books / Physical media;School (i.e., Universit...</td>\n      <td>NaN</td>\n      <td>NaN</td>\n      <td>20</td>\n      <td>...</td>\n      <td>NaN</td>\n      <td>NaN</td>\n      <td>NaN</td>\n      <td>NaN</td>\n      <td>NaN</td>\n      <td>NaN</td>\n      <td>NaN</td>\n      <td>Appropriate in length</td>\n      <td>Easy</td>\n      <td>215232.0</td>\n    </tr>\n    <tr>\n      <th>4</th>\n      <td>5</td>\n      <td>I am a developer by profession</td>\n      <td>Employed, full-time</td>\n      <td>Hybrid (some remote, some in-person)</td>\n      <td>Hobby</td>\n      <td>Bachelor’s degree (B.A., B.S., B.Eng., etc.)</td>\n      <td>Other online resources (e.g., videos, blogs, f...</td>\n      <td>Technical documentation;Blogs;Stack Overflow;O...</td>\n      <td>NaN</td>\n      <td>8</td>\n      <td>...</td>\n      <td>NaN</td>\n      <td>NaN</td>\n      <td>NaN</td>\n      <td>NaN</td>\n      <td>NaN</td>\n      <td>NaN</td>\n      <td>NaN</td>\n      <td>Too long</td>\n      <td>Easy</td>\n      <td>NaN</td>\n    </tr>\n    <tr>\n      <th>...</th>\n      <td>...</td>\n      <td>...</td>\n      <td>...</td>\n      <td>...</td>\n      <td>...</td>\n      <td>...</td>\n      <td>...</td>\n      <td>...</td>\n      <td>...</td>\n      <td>...</td>\n      <td>...</td>\n      <td>...</td>\n      <td>...</td>\n      <td>...</td>\n      <td>...</td>\n      <td>...</td>\n      <td>...</td>\n      <td>...</td>\n      <td>...</td>\n      <td>...</td>\n      <td>...</td>\n    </tr>\n    <tr>\n      <th>73263</th>\n      <td>73264</td>\n      <td>I am a developer by profession</td>\n      <td>Employed, full-time</td>\n      <td>Fully remote</td>\n      <td>Freelance/contract work</td>\n      <td>Bachelor’s degree (B.A., B.S., B.Eng., etc.)</td>\n      <td>Books / Physical media;Other online resources ...</td>\n      <td>Technical documentation;Blogs;Written Tutorial...</td>\n      <td>Udemy</td>\n      <td>8</td>\n      <td>...</td>\n      <td>30-60 minutes a day</td>\n      <td>Less than 15 minutes a day</td>\n      <td>Just right</td>\n      <td>DevOps function;Microservices;Developer portal...</td>\n      <td>Yes</td>\n      <td>Yes</td>\n      <td>Yes</td>\n      <td>Too long</td>\n      <td>Easy</td>\n      <td>NaN</td>\n    </tr>\n    <tr>\n      <th>73264</th>\n      <td>73265</td>\n      <td>I am a developer by profession</td>\n      <td>Employed, full-time</td>\n      <td>Full in-person</td>\n      <td>Hobby</td>\n      <td>Master’s degree (M.A., M.S., M.Eng., MBA, etc.)</td>\n      <td>Other online resources (e.g., videos, blogs, f...</td>\n      <td>Technical documentation;Blogs;Written Tutorial...</td>\n      <td>Coursera;Udemy;Udacity</td>\n      <td>6</td>\n      <td>...</td>\n      <td>15-30 minutes a day</td>\n      <td>60-120 minutes a day</td>\n      <td>Very long</td>\n      <td>None of these</td>\n      <td>No</td>\n      <td>Yes</td>\n      <td>Yes</td>\n      <td>Too long</td>\n      <td>Easy</td>\n      <td>NaN</td>\n    </tr>\n    <tr>\n      <th>73265</th>\n      <td>73266</td>\n      <td>I am not primarily a developer, but I write co...</td>\n      <td>Employed, full-time</td>\n      <td>Hybrid (some remote, some in-person)</td>\n      <td>Hobby;School or academic work</td>\n      <td>Bachelor’s degree (B.A., B.S., B.Eng., etc.)</td>\n      <td>Books / Physical media;Other online resources ...</td>\n      <td>Technical documentation;Programming Games;Stac...</td>\n      <td>Udemy;Codecademy;Pluralsight;edX</td>\n      <td>42</td>\n      <td>...</td>\n      <td>30-60 minutes a day</td>\n      <td>60-120 minutes a day</td>\n      <td>Just right</td>\n      <td>None of these</td>\n      <td>No</td>\n      <td>No</td>\n      <td>No</td>\n      <td>Appropriate in length</td>\n      <td>Easy</td>\n      <td>NaN</td>\n    </tr>\n    <tr>\n      <th>73266</th>\n      <td>73267</td>\n      <td>I am a developer by profession</td>\n      <td>Employed, full-time</td>\n      <td>Hybrid (some remote, some in-person)</td>\n      <td>Hobby</td>\n      <td>Bachelor’s degree (B.A., B.S., B.Eng., etc.)</td>\n      <td>Books / Physical media;On the job training</td>\n      <td>NaN</td>\n      <td>NaN</td>\n      <td>50</td>\n      <td>...</td>\n      <td>NaN</td>\n      <td>NaN</td>\n      <td>NaN</td>\n      <td>NaN</td>\n      <td>NaN</td>\n      <td>NaN</td>\n      <td>NaN</td>\n      <td>Appropriate in length</td>\n      <td>Easy</td>\n      <td>NaN</td>\n    </tr>\n    <tr>\n      <th>73267</th>\n      <td>73268</td>\n      <td>I used to be a developer by profession, but no...</td>\n      <td>Independent contractor, freelancer, or self-em...</td>\n      <td>Fully remote</td>\n      <td>Hobby;Contribute to open-source projects;Boots...</td>\n      <td>Bachelor’s degree (B.A., B.S., B.Eng., etc.)</td>\n      <td>Books / Physical media;Friend or family member...</td>\n      <td>Technical documentation;Blogs;Programming Game...</td>\n      <td>Udemy;Pluralsight</td>\n      <td>16</td>\n      <td>...</td>\n      <td>NaN</td>\n      <td>NaN</td>\n      <td>NaN</td>\n      <td>NaN</td>\n      <td>NaN</td>\n      <td>NaN</td>\n      <td>NaN</td>\n      <td>Appropriate in length</td>\n      <td>Easy</td>\n      <td>NaN</td>\n    </tr>\n  </tbody>\n</table>\n<p>73268 rows × 79 columns</p>\n</div>"
     },
     "execution_count": 53,
     "metadata": {},
     "output_type": "execute_result"
    }
   ],
   "source": [
    "# Read data from the csv file\n",
    "df_raw = pd.read_csv('./data/survey_results_public.csv', sep=',')\n",
    "df_raw"
   ]
  },
  {
   "cell_type": "code",
   "execution_count": 54,
   "metadata": {},
   "outputs": [],
   "source": [
    "# select only those columns that are important for this analysis\n",
    "df = df_raw.copy()\n",
    "df = df[['ConvertedCompYearly', 'EdLevel', 'YearsCode', 'YearsCodePro', 'OrgSize', 'Age', 'MainBranch', 'RemoteWork', 'DevType', 'Country', 'LanguageHaveWorkedWith', 'Gender']]\n",
    "\n",
    "# rename columns\n",
    "df = df.rename(columns={\n",
    "    'ConvertedCompYearly':'Salary',\n",
    "    'MainBranch':'Employment',\n",
    "    'LanguageHaveWorkedWith':'ProgLanguage'\n",
    "})\n",
    "\n",
    "# Replace unnecessarily long entries with shorter ones\n",
    "df['Employment'] = df['Employment'].replace(\n",
    "    to_replace=[\n",
    "        \"I am a developer by profession\",\n",
    "        \"I am learning to code\",\n",
    "        \"I am not primarily a developer, but I write code sometimes as part of my work\",\n",
    "        \"I code primarily as a hobby\",\n",
    "        \"I used to be a developer by profession, but no longer am\",\n",
    "        \"None of these\"\n",
    "    ],\n",
    "    value=[\n",
    "        \"profession\",\n",
    "        \"student\",\n",
    "        \"part of work\",\n",
    "        \"hobby\",\n",
    "        \"ex profession\",\n",
    "        \"unknown\"\n",
    "    ]\n",
    ")\n",
    "\n",
    "df['EdLevel'] = df['EdLevel'].replace(\n",
    "    to_replace=[\n",
    "        \"Secondary school (e.g. American high school, German Realschule or Gymnasium, etc.)\",\n",
    "        \"Bachelor’s degree (B.A., B.S., B.Eng., etc.)\",\n",
    "        \"Master’s degree (M.A., M.S., M.Eng., MBA, etc.)\",\n",
    "        \"Other doctoral degree (Ph.D., Ed.D., etc.)\",\n",
    "        \"Some college/university study without earning a degree\",\n",
    "        \"Something else\",\n",
    "        \"Professional degree (JD, MD, etc.)\",\n",
    "        \"Primary/elementary school\",\n",
    "        \"Associate degree (A.A., A.S., etc.)\"\n",
    "    ],\n",
    "    value=[\n",
    "        \"Secondary school\",\n",
    "        \"Bachelor’s degree\",\n",
    "        \"Master’s degree\",\n",
    "        \"Doctoral degree\",\n",
    "        \"University courses\",\n",
    "        \"Unknown\",\n",
    "        \"Professional degree\",\n",
    "        \"Primary school\",\n",
    "        \"Associate degree\"\n",
    "    ]\n",
    ")\n",
    "\n",
    "df['YearsCode'] = df['YearsCode'].replace(\n",
    "    to_replace=[\n",
    "        \"More than 50 years\",\n",
    "        \"Less than 1 year\"\n",
    "    ],\n",
    "    value=[\n",
    "        \"50\",\n",
    "        \"0\",\n",
    "    ]\n",
    ")\n",
    "\n",
    "df['YearsCodePro'] = df['YearsCodePro'].replace(\n",
    "    to_replace=[\n",
    "        \"More than 50 years\",\n",
    "        \"Less than 1 year\"\n",
    "    ],\n",
    "    value=[\n",
    "        \"50\",\n",
    "        \"0\",\n",
    "    ]\n",
    ")\n",
    "\n",
    "df['OrgSize'] = df['OrgSize'].replace(\n",
    "    to_replace=[\n",
    "        \"Just me - I am a freelancer, sole proprietor, etc.\",\n",
    "        \"2 to 9 employees\",\n",
    "        \"10 to 19 employees\",\n",
    "        \"20 to 99 employees\",\n",
    "        \"100 to 499 employees\",\n",
    "        \"500 to 999 employees\",\n",
    "        \"1,000 to 4,999 employees\",\n",
    "        \"5,000 to 9,999 employees\",\n",
    "        \"10,000 or more employees\",\n",
    "        \"I don’t know\"\n",
    "    ],\n",
    "    value=[\n",
    "        \"1\",\n",
    "        \"2 to 9\",\n",
    "        \"10 to 19\",\n",
    "        \"20 to 99\",\n",
    "        \"100 to 499\",\"500 to 999\",\n",
    "        \"1,000 to 4,999\",\n",
    "        \"5,000 to 9,999\",\n",
    "        \"10,000 or more\",\n",
    "        \"unknown\"\n",
    "    ]\n",
    ")\n",
    "\n",
    "df['RemoteWork'] = df['RemoteWork'].replace(\n",
    "    to_replace=[\n",
    "        \"Full in-person\",\n",
    "        \"Hybrid (some remote, some in-person)\",\n",
    "        \"Fully remote\"\n",
    "    ],\n",
    "    value=[\n",
    "        \"in-person\",\n",
    "        \"hybrid\",\n",
    "        \"remote\"\n",
    "    ]\n",
    ")\n",
    "\n",
    "df['Age'] = df['Age'].replace(\n",
    "    to_replace=[\n",
    "        \"Under 18 years old\",\n",
    "        \"18-24 years old\",\n",
    "        \"25-34 years old\",\n",
    "        \"35-44 years old\",\n",
    "        \"45-54 years old\",\n",
    "        \"55-64 years old\",\n",
    "        \"65 years or older\",\n",
    "        \"Prefer not to say\"\n",
    "    ],\n",
    "    value=[\n",
    "        \"under 18\",\n",
    "        \"18-24\",\n",
    "        \"25-34\",\n",
    "        \"35-44\",\n",
    "        \"45-54\",\n",
    "        \"55-64\",\n",
    "        \"over 65\",\n",
    "        \"unknown\"\n",
    "    ]\n",
    ")\n",
    "\n",
    "# Convert the gender values into 'Man', 'Woman', 'Prefer not to say' and 'Other'\n",
    "df.loc[~df['Gender'].isin(['Man', 'Woman', 'Prefer not to say']), 'Gender'] = \"Other\"\n",
    "\n",
    "# Convert columns into numeric values\n",
    "df['Salary'] = pd.to_numeric(df['Salary'], errors='coerce')\n",
    "df['YearsCode'] = pd.to_numeric(df['YearsCode'], errors='coerce')\n",
    "df['YearsCodePro'] = pd.to_numeric(df['YearsCodePro'], errors='coerce')\n",
    "\n",
    "# delete all rows with NaN in Salary as those entries can't be used\n",
    "df = df[df['Salary'].isnull() == False]"
   ]
  },
  {
   "cell_type": "code",
   "execution_count": 55,
   "outputs": [],
   "source": [
    "# select only the data from germany and those of which it is their profession\n",
    "df_ger = df.copy()\n",
    "df_ger = df_ger[df_ger['Country'] == \"Germany\"]\n",
    "df_ger = df_ger[df_ger['Employment'] == 'profession']"
   ],
   "metadata": {
    "collapsed": false
   }
  },
  {
   "attachments": {},
   "cell_type": "markdown",
   "metadata": {},
   "source": [
    "#### Cut outliers"
   ]
  },
  {
   "cell_type": "code",
   "execution_count": 56,
   "metadata": {},
   "outputs": [
    {
     "name": "stdout",
     "output_type": "stream",
     "text": [
      "0.95 quantil: 481818\n",
      "0.90 quantil: 138637\n",
      "0.10 quantil:  42228\n",
      "0.05 quantil:  33273\n"
     ]
    }
   ],
   "source": [
    "upper_05 = int(np.quantile(df_ger['Salary'], q=0.95))\n",
    "upper_10 = int(np.quantile(df_ger['Salary'], q=0.9))\n",
    "lower_05 = int(np.quantile(df_ger['Salary'], q=0.05))\n",
    "lower_10 = int(np.quantile(df_ger['Salary'], q=0.1))\n",
    "\n",
    "print(f\"0.95 quantil: {upper_05 : >6}\")\n",
    "print(f\"0.90 quantil: {upper_10 : >6}\")\n",
    "print(f\"0.10 quantil: {lower_10 : >6}\")\n",
    "print(f\"0.05 quantil: {lower_05 : >6}\")\n",
    "\n",
    "df_ger = df_ger[df_ger['Salary'].between(lower_10, upper_10)]"
   ]
  },
  {
   "attachments": {},
   "cell_type": "markdown",
   "metadata": {},
   "source": [
    "### Encoding of the features"
   ]
  },
  {
   "cell_type": "code",
   "execution_count": 57,
   "outputs": [],
   "source": [
    "# select important features for the analysis\n",
    "df_ger_encoded = df_ger.copy()\n",
    "df_ger_encoded = df_ger_encoded[['Salary', 'EdLevel', 'YearsCode', 'YearsCodePro', 'OrgSize', 'Age', 'RemoteWork', 'ProgLanguage', 'DevType', 'Gender']]\n",
    "\n",
    "df_ger_encoded['Age'] = df_ger_encoded['Age'].replace(\n",
    "    to_replace=[\n",
    "        \"unknown\",\n",
    "        \"under 18\",\n",
    "        \"18-24\",\n",
    "        \"25-34\",\n",
    "        \"35-44\",\n",
    "        \"45-54\",\n",
    "        \"55-64\",\n",
    "        \"over 65\",\n",
    "    ],\n",
    "    value=[\n",
    "        None,\n",
    "        1,\n",
    "        2,\n",
    "        3,\n",
    "        4,\n",
    "        5,\n",
    "        6,\n",
    "        7\n",
    "    ]\n",
    ")\n",
    "df_ger_encoded['OrgSize'] = df_ger_encoded['OrgSize'].replace(\n",
    "    to_replace=[\n",
    "        \"unknown\",\n",
    "        \"1\",\n",
    "        \"2 to 9\",\n",
    "        \"10 to 19\",\n",
    "        \"20 to 99\",\n",
    "        \"100 to 499\",\n",
    "        \"500 to 999\",\n",
    "        \"1,000 to 4,999\",\n",
    "        \"5,000 to 9,999\",\n",
    "        \"10,000 or more\"\n",
    "    ],\n",
    "    value=[\n",
    "        None,\n",
    "        1,\n",
    "        2,\n",
    "        3,\n",
    "        4,\n",
    "        5,\n",
    "        6,\n",
    "        7,\n",
    "        8,\n",
    "        9\n",
    "    ]\n",
    ")"
   ],
   "metadata": {
    "collapsed": false
   }
  },
  {
   "attachments": {},
   "cell_type": "markdown",
   "metadata": {},
   "source": [
    "#### One-Hot Encoding"
   ]
  },
  {
   "cell_type": "code",
   "execution_count": 58,
   "metadata": {},
   "outputs": [],
   "source": [
    "# one hot encoding 'EdLevel' and 'RemoteWork'; drop first to avoid the dummy variable trap\n",
    "df_ger_encoded = pd.concat([df_ger_encoded, pd.get_dummies(df_ger_encoded['EdLevel'], drop_first=True)], axis=1)\n",
    "df_ger_encoded = df_ger_encoded.drop(['EdLevel', 'Unknown'], axis=1)\n",
    "\n",
    "df_ger_encoded = pd.concat([df_ger_encoded, pd.get_dummies(df_ger_encoded['RemoteWork'], drop_first=True)], axis=1)\n",
    "df_ger_encoded = df_ger_encoded.drop(['RemoteWork'], axis=1)\n",
    "\n",
    "# one hot encoding 'ProgLanguage' and 'DevType' where with \";\" seperated list values\n",
    "df_ger_encoded = pd.concat([df_ger_encoded, df_ger_encoded['ProgLanguage'].str.get_dummies(sep=';')], axis=1)\n",
    "df_ger_encoded = df_ger_encoded.drop(['ProgLanguage'], axis=1)\n",
    "\n",
    "# df_ger_encoded = pd.concat([df_ger_encoded, df_ger_encoded['DevType'].str.get_dummies(sep=';')], axis=1)\n",
    "df_ger_encoded = df_ger_encoded.drop(['DevType'], axis=1)\n",
    "\n",
    "df_ger_encoded.apply(pd.to_numeric, errors='ignore')\n",
    "\n",
    "df_ger_encoded = df_ger_encoded.dropna()"
   ]
  },
  {
   "attachments": {},
   "cell_type": "markdown",
   "metadata": {},
   "source": [
    "#### Write preprocessed data to new file"
   ]
  },
  {
   "cell_type": "code",
   "execution_count": 59,
   "metadata": {},
   "outputs": [
    {
     "name": "stdout",
     "output_type": "stream",
     "text": [
      "-------------------------------\n",
      "Preprocessing done\n",
      "Number of samples in file preprocessed_survey_results.csv: 2100\n",
      "Attributes in file preprocessed_survey_results.csv: ['Salary', 'EdLevel', 'YearsCode', 'YearsCodePro', 'OrgSize', 'Age', 'Employment', 'RemoteWork', 'DevType', 'Country', 'ProgLanguage', 'Gender']\n",
      "-------------------------------\n"
     ]
    }
   ],
   "source": [
    "csv_filename = 'preprocessed_survey_results.csv'\n",
    "\n",
    "df_ger.to_csv('data/' + csv_filename)\n",
    "\n",
    "print(\"-------------------------------\")\n",
    "print(\"Preprocessing done\")\n",
    "print(\"Number of samples in file \" + csv_filename + \": \" + str(len(df_ger)))\n",
    "print(\"Attributes in file \" + csv_filename + \": \" + str(df_ger.columns.tolist()))\n",
    "print(\"-------------------------------\")\n"
   ]
  },
  {
   "cell_type": "code",
   "execution_count": 60,
   "outputs": [
    {
     "name": "stdout",
     "output_type": "stream",
     "text": [
      "-------------------------------\n",
      "Preprocessing done\n",
      "Number of samples in file preprocessed_survey_results_encoded.csv: 2076\n",
      "Attributes in file preprocessed_survey_results_encoded.csv: ['Salary', 'YearsCode', 'YearsCodePro', 'OrgSize', 'Age', 'Gender', 'Bachelor’s degree', 'Doctoral degree', 'Master’s degree', 'Primary school', 'Professional degree', 'Secondary school', 'University courses', 'in-person', 'remote', 'APL', 'Assembly', 'Bash/Shell', 'C', 'C#', 'C++', 'COBOL', 'Clojure', 'Crystal', 'Dart', 'Delphi', 'Elixir', 'Erlang', 'F#', 'Fortran', 'Go', 'Groovy', 'HTML/CSS', 'Haskell', 'Java', 'JavaScript', 'Julia', 'Kotlin', 'LISP', 'Lua', 'MATLAB', 'OCaml', 'Objective-C', 'PHP', 'Perl', 'PowerShell', 'Python', 'R', 'Ruby', 'Rust', 'SAS', 'SQL', 'Scala', 'Solidity', 'Swift', 'TypeScript', 'VBA']\n",
      "-------------------------------\n"
     ]
    }
   ],
   "source": [
    "csv_filename_encoded = 'preprocessed_survey_results_encoded.csv'\n",
    "\n",
    "df_ger_encoded.to_csv('data/' + csv_filename_encoded)\n",
    "\n",
    "print(\"-------------------------------\")\n",
    "print(\"Preprocessing done\")\n",
    "print(\"Number of samples in file \" + csv_filename_encoded + \": \" + str(len(df_ger_encoded)))\n",
    "print(\"Attributes in file \" + csv_filename_encoded + \": \" + str(df_ger_encoded.columns.tolist()))\n",
    "print(\"-------------------------------\")\n"
   ],
   "metadata": {
    "collapsed": false
   }
  }
 ],
 "metadata": {
  "kernelspec": {
   "display_name": "base",
   "language": "python",
   "name": "python3"
  },
  "language_info": {
   "codemirror_mode": {
    "name": "ipython",
    "version": 3
   },
   "file_extension": ".py",
   "mimetype": "text/x-python",
   "name": "python",
   "nbconvert_exporter": "python",
   "pygments_lexer": "ipython3",
   "version": "3.9.13"
  },
  "orig_nbformat": 4,
  "vscode": {
   "interpreter": {
    "hash": "b69678d18f36c4d1d45d0141dad3828b5cc180ac84865b5877544724ac7ae9c1"
   }
  }
 },
 "nbformat": 4,
 "nbformat_minor": 2
}
